{
 "cells": [
  {
   "cell_type": "code",
   "execution_count": 1,
   "metadata": {},
   "outputs": [
    {
     "name": "stderr",
     "output_type": "stream",
     "text": [
      "c:\\Users\\Loassar\\AppData\\Local\\Programs\\Python\\Python311\\Lib\\site-packages\\tqdm\\auto.py:21: TqdmWarning: IProgress not found. Please update jupyter and ipywidgets. See https://ipywidgets.readthedocs.io/en/stable/user_install.html\n",
      "  from .autonotebook import tqdm as notebook_tqdm\n"
     ]
    }
   ],
   "source": [
    "from transformers import AutoTokenizer, AutoModel\n",
    "import torch\n",
    "from torch import nn\n",
    "import numpy as np\n",
    "import pandas as pd\n",
    "import matplotlib.pyplot as plt\n",
    "from sklearn.model_selection import train_test_split\n",
    "from sklearn.utils import resample"
   ]
  },
  {
   "cell_type": "code",
   "execution_count": 2,
   "metadata": {},
   "outputs": [],
   "source": [
    "path = r'src\\dataset\\russian_comments_from_2ch_pikabu.csv'\n",
    "df = pd.read_csv(path)\n",
    "df = df.drop(columns='translated')"
   ]
  },
  {
   "cell_type": "code",
   "execution_count": 3,
   "metadata": {},
   "outputs": [
    {
     "name": "stdout",
     "output_type": "stream",
     "text": [
      "<class 'pandas.core.frame.DataFrame'>\n",
      "RangeIndex: 14412 entries, 0 to 14411\n",
      "Data columns (total 2 columns):\n",
      " #   Column   Non-Null Count  Dtype  \n",
      "---  ------   --------------  -----  \n",
      " 0   comment  14412 non-null  object \n",
      " 1   toxic    14412 non-null  float64\n",
      "dtypes: float64(1), object(1)\n",
      "memory usage: 225.3+ KB\n"
     ]
    }
   ],
   "source": [
    "df.info()"
   ]
  },
  {
   "cell_type": "code",
   "execution_count": 4,
   "metadata": {},
   "outputs": [
    {
     "data": {
      "text/html": [
       "<div>\n",
       "<style scoped>\n",
       "    .dataframe tbody tr th:only-of-type {\n",
       "        vertical-align: middle;\n",
       "    }\n",
       "\n",
       "    .dataframe tbody tr th {\n",
       "        vertical-align: top;\n",
       "    }\n",
       "\n",
       "    .dataframe thead th {\n",
       "        text-align: right;\n",
       "    }\n",
       "</style>\n",
       "<table border=\"1\" class=\"dataframe\">\n",
       "  <thead>\n",
       "    <tr style=\"text-align: right;\">\n",
       "      <th></th>\n",
       "      <th>comment</th>\n",
       "      <th>toxic</th>\n",
       "    </tr>\n",
       "  </thead>\n",
       "  <tbody>\n",
       "    <tr>\n",
       "      <th>0</th>\n",
       "      <td>Верблюдов-то за что? Дебилы, бл...\\n</td>\n",
       "      <td>1.0</td>\n",
       "    </tr>\n",
       "    <tr>\n",
       "      <th>1</th>\n",
       "      <td>Хохлы, это отдушина затюканого россиянина, мол...</td>\n",
       "      <td>1.0</td>\n",
       "    </tr>\n",
       "    <tr>\n",
       "      <th>2</th>\n",
       "      <td>Собаке - собачья смерть\\n</td>\n",
       "      <td>1.0</td>\n",
       "    </tr>\n",
       "    <tr>\n",
       "      <th>3</th>\n",
       "      <td>Страницу обнови, дебил. Это тоже не оскорблени...</td>\n",
       "      <td>1.0</td>\n",
       "    </tr>\n",
       "    <tr>\n",
       "      <th>4</th>\n",
       "      <td>тебя не убедил 6-страничный пдф в том, что Скр...</td>\n",
       "      <td>1.0</td>\n",
       "    </tr>\n",
       "  </tbody>\n",
       "</table>\n",
       "</div>"
      ],
      "text/plain": [
       "                                             comment  toxic\n",
       "0               Верблюдов-то за что? Дебилы, бл...\\n    1.0\n",
       "1  Хохлы, это отдушина затюканого россиянина, мол...    1.0\n",
       "2                          Собаке - собачья смерть\\n    1.0\n",
       "3  Страницу обнови, дебил. Это тоже не оскорблени...    1.0\n",
       "4  тебя не убедил 6-страничный пдф в том, что Скр...    1.0"
      ]
     },
     "execution_count": 4,
     "metadata": {},
     "output_type": "execute_result"
    }
   ],
   "source": [
    "df.head()"
   ]
  },
  {
   "cell_type": "code",
   "execution_count": 5,
   "metadata": {},
   "outputs": [],
   "source": [
    "def get_sample_data(df, n_samples=1500):\n",
    "    # Стратифицированная выборка\n",
    "    df_sampled = resample(\n",
    "        df,\n",
    "        replace=False,  # Без замены\n",
    "        n_samples=n_samples,  # Количество выборки\n",
    "        stratify=df[\"toxic\"],  # Указываем метки\n",
    "        random_state=42  # Для воспроизводимости\n",
    "    )\n",
    "    return df_sampled\n",
    "\n",
    "df_cat = get_sample_data(df, n_samples=3000)"
   ]
  },
  {
   "cell_type": "code",
   "execution_count": 6,
   "metadata": {},
   "outputs": [],
   "source": [
    "X = df_cat['comment']\n",
    "y = df_cat['toxic']\n",
    "X_part = X.to_numpy()\n",
    "y_part = y.to_numpy().reshape(-1,1)"
   ]
  },
  {
   "cell_type": "code",
   "execution_count": 7,
   "metadata": {},
   "outputs": [],
   "source": [
    "model_name = \"cointegrated/rubert-tiny2\"\n",
    "tokenizer = AutoTokenizer.from_pretrained(model_name)\n",
    "base_model = AutoModel.from_pretrained(model_name)\n",
    "\n",
    "base_model.eval()\n",
    "MAX_LENGTH = 128"
   ]
  },
  {
   "cell_type": "code",
   "execution_count": 8,
   "metadata": {},
   "outputs": [],
   "source": [
    "def filter_and_tokenize(X, y, tokenizer, max_length=MAX_LENGTH):\n",
    "    \"\"\"\n",
    "    Функция отфильтровывает слишком длинные предложения\n",
    "    (более max_length токенов), затем возвращает\n",
    "    отфильтрованный X, y и токенизированные входные данные.\n",
    "    \"\"\"\n",
    "    X_filtered = []\n",
    "    y_filtered = []\n",
    "\n",
    "    for text, label in zip(X, y):\n",
    "        # Токенизация \"на лету\", чтобы понять, сколько токенов получится\n",
    "        tokens = tokenizer.tokenize(text)\n",
    "        if len(tokens) <= max_length:\n",
    "            X_filtered.append(text)\n",
    "            y_filtered.append(label)\n",
    "\n",
    "    # Теперь делаем окончательную токенизацию для всей выборки\n",
    "    encoded = tokenizer(\n",
    "        X_filtered,\n",
    "        padding=True,\n",
    "        truncation=True,\n",
    "        max_length=max_length,\n",
    "        return_tensors=\"pt\"  # сразу вернёт PyTorch тензоры\n",
    "    )\n",
    "    print(\"Special tokens:\", tokenizer.special_tokens_map)\n",
    "    return X_filtered, y_filtered, encoded"
   ]
  },
  {
   "cell_type": "code",
   "execution_count": 9,
   "metadata": {},
   "outputs": [
    {
     "name": "stdout",
     "output_type": "stream",
     "text": [
      "Hidden size (original): 312\n"
     ]
    }
   ],
   "source": [
    "print(\"Hidden size (original):\", base_model.config.hidden_size)  # Обычно 312 для rubert-tiny2\n",
    "# Обёрточный класс, возвращающий эмбеддинги как есть (без проекции)\n",
    "class Embedder(nn.Module):\n",
    "    def __init__(self, base_model):\n",
    "        super().__init__()\n",
    "        self.base_model = base_model\n",
    "\n",
    "    def forward(self, input_ids, attention_mask=None):\n",
    "        # Получаем скрытые состояния\n",
    "        outputs = self.base_model(input_ids=input_ids, attention_mask=attention_mask)\n",
    "        # outputs.last_hidden_state.shape = [batch_size, seq_len, hidden_size=312]\n",
    "\n",
    "        # 1) Если нужен [CLS]-эмбеддинг (один вектор на предложение), берём первый токен\n",
    "        # cls_embeddings = outputs.last_hidden_state[:, 0, :]\n",
    "\n",
    "        # 2) Если нужно получить эмбеддинги для всех токенов, используем:\n",
    "        all_embeddings = outputs.last_hidden_state\n",
    "        # return all_embeddings\n",
    "\n",
    "        return all_embeddings"
   ]
  },
  {
   "cell_type": "code",
   "execution_count": 10,
   "metadata": {},
   "outputs": [
    {
     "name": "stdout",
     "output_type": "stream",
     "text": [
      "Special tokens: {'unk_token': '[UNK]', 'sep_token': '[SEP]', 'pad_token': '[PAD]', 'cls_token': '[CLS]', 'mask_token': '[MASK]'}\n",
      "Форма эмбеддингов [CLS]: torch.Size([2850, 128, 312])\n"
     ]
    }
   ],
   "source": [
    "# Инициализация \"чистой\" модели-эмбеддера\n",
    "X_tkn, y_tkn, encoded_data = filter_and_tokenize(X_part, y_part, tokenizer=tokenizer, max_length=MAX_LENGTH)\n",
    "embedder = Embedder(base_model=base_model)\n",
    "embedder.eval()\n",
    "\n",
    "# Генерация эмбеддингов\n",
    "with torch.no_grad():\n",
    "    embeddings = embedder(\n",
    "        input_ids=encoded_data[\"input_ids\"],\n",
    "        attention_mask=encoded_data[\"attention_mask\"]\n",
    "    )\n",
    "\n",
    "print(\"Форма эмбеддингов [CLS]:\", embeddings.shape)"
   ]
  },
  {
   "cell_type": "code",
   "execution_count": 11,
   "metadata": {},
   "outputs": [],
   "source": [
    "emb_size = embeddings.numpy().shape[-1]\n",
    "y_tkn = np.array(y_tkn)\n",
    "X_tkn = np.array(X_tkn)\n",
    "X_train, X_test, y_train, y_test = train_test_split(embeddings.numpy(), y_tkn, test_size=0.3,  random_state=42, stratify=y_tkn)"
   ]
  },
  {
   "cell_type": "code",
   "execution_count": 12,
   "metadata": {},
   "outputs": [],
   "source": [
    "def create_batches(X: np.ndarray, y: np.ndarray, batch_size: int = 32, shuffle: bool = False):\n",
    "    num_samples = X.shape[0]\n",
    "\n",
    "    if shuffle:\n",
    "        # Генерируем случайные индексы для перемешивания данных\n",
    "        indices = np.arange(num_samples)\n",
    "        np.random.shuffle(indices)\n",
    "        X = X[indices]\n",
    "        y = y[indices]\n",
    "\n",
    "    # Рассчитываем количество батчей\n",
    "    num_batches = int(np.ceil(num_samples / batch_size))\n",
    "\n",
    "    batches = []\n",
    "    for i in range(num_batches):\n",
    "        start_idx = i * batch_size\n",
    "        end_idx = min(start_idx + batch_size, num_samples)\n",
    "        X_batch = X[start_idx:end_idx]\n",
    "        y_batch = y[start_idx:end_idx]\n",
    "        batches.append((X_batch, y_batch))\n",
    "\n",
    "    return batches\n",
    "\n",
    "batches = create_batches(X_train, y_train, batch_size=150)"
   ]
  },
  {
   "cell_type": "code",
   "execution_count": 13,
   "metadata": {},
   "outputs": [
    {
     "name": "stderr",
     "output_type": "stream",
     "text": [
      "Epoch 1/15:   0%|          | 0/14 [00:00<?, ?batch/s]"
     ]
    },
    {
     "name": "stderr",
     "output_type": "stream",
     "text": [
      "Epoch 1/15: 100%|██████████| 14/14 [00:26<00:00,  1.86s/batch, Loss=0.462]\n"
     ]
    },
    {
     "name": "stdout",
     "output_type": "stream",
     "text": [
      "Epoch 1/15 | Loss: 0.674118\n"
     ]
    },
    {
     "name": "stderr",
     "output_type": "stream",
     "text": [
      "Epoch 2/15: 100%|██████████| 14/14 [00:25<00:00,  1.83s/batch, Loss=0.319]\n"
     ]
    },
    {
     "name": "stdout",
     "output_type": "stream",
     "text": [
      "Epoch 2/15 | Loss: 0.419296\n"
     ]
    },
    {
     "name": "stderr",
     "output_type": "stream",
     "text": [
      "Epoch 3/15: 100%|██████████| 14/14 [00:25<00:00,  1.80s/batch, Loss=0.301]\n"
     ]
    },
    {
     "name": "stdout",
     "output_type": "stream",
     "text": [
      "Epoch 3/15 | Loss: 0.333224\n"
     ]
    },
    {
     "name": "stderr",
     "output_type": "stream",
     "text": [
      "Epoch 4/15: 100%|██████████| 14/14 [00:25<00:00,  1.83s/batch, Loss=0.304]\n"
     ]
    },
    {
     "name": "stdout",
     "output_type": "stream",
     "text": [
      "Epoch 4/15 | Loss: 0.307085\n"
     ]
    },
    {
     "name": "stderr",
     "output_type": "stream",
     "text": [
      "Epoch 5/15: 100%|██████████| 14/14 [00:25<00:00,  1.84s/batch, Loss=0.294]\n"
     ]
    },
    {
     "name": "stdout",
     "output_type": "stream",
     "text": [
      "Epoch 5/15 | Loss: 0.292087\n"
     ]
    },
    {
     "name": "stderr",
     "output_type": "stream",
     "text": [
      "Epoch 6/15: 100%|██████████| 14/14 [00:25<00:00,  1.82s/batch, Loss=0.29] \n"
     ]
    },
    {
     "name": "stdout",
     "output_type": "stream",
     "text": [
      "Epoch 6/15 | Loss: 0.279273\n"
     ]
    },
    {
     "name": "stderr",
     "output_type": "stream",
     "text": [
      "Epoch 7/15: 100%|██████████| 14/14 [00:26<00:00,  1.86s/batch, Loss=0.289]\n"
     ]
    },
    {
     "name": "stdout",
     "output_type": "stream",
     "text": [
      "Epoch 7/15 | Loss: 0.269427\n"
     ]
    },
    {
     "name": "stderr",
     "output_type": "stream",
     "text": [
      "Epoch 8/15: 100%|██████████| 14/14 [00:26<00:00,  1.87s/batch, Loss=0.289]\n"
     ]
    },
    {
     "name": "stdout",
     "output_type": "stream",
     "text": [
      "Epoch 8/15 | Loss: 0.261777\n"
     ]
    },
    {
     "name": "stderr",
     "output_type": "stream",
     "text": [
      "Epoch 9/15: 100%|██████████| 14/14 [00:26<00:00,  1.91s/batch, Loss=0.29] \n"
     ]
    },
    {
     "name": "stdout",
     "output_type": "stream",
     "text": [
      "Epoch 9/15 | Loss: 0.255296\n"
     ]
    },
    {
     "name": "stderr",
     "output_type": "stream",
     "text": [
      "Epoch 10/15: 100%|██████████| 14/14 [00:26<00:00,  1.92s/batch, Loss=0.291]\n"
     ]
    },
    {
     "name": "stdout",
     "output_type": "stream",
     "text": [
      "Epoch 10/15 | Loss: 0.249486\n"
     ]
    },
    {
     "name": "stderr",
     "output_type": "stream",
     "text": [
      "Epoch 11/15: 100%|██████████| 14/14 [01:15<00:00,  5.38s/batch, Loss=0.292]\n"
     ]
    },
    {
     "name": "stdout",
     "output_type": "stream",
     "text": [
      "Epoch 11/15 | Loss: 0.244117\n"
     ]
    },
    {
     "name": "stderr",
     "output_type": "stream",
     "text": [
      "Epoch 12/15: 100%|██████████| 14/14 [01:21<00:00,  5.81s/batch, Loss=0.293]\n"
     ]
    },
    {
     "name": "stdout",
     "output_type": "stream",
     "text": [
      "Epoch 12/15 | Loss: 0.239036\n"
     ]
    },
    {
     "name": "stderr",
     "output_type": "stream",
     "text": [
      "Epoch 13/15: 100%|██████████| 14/14 [00:26<00:00,  1.87s/batch, Loss=0.293]\n"
     ]
    },
    {
     "name": "stdout",
     "output_type": "stream",
     "text": [
      "Epoch 13/15 | Loss: 0.234110\n"
     ]
    },
    {
     "name": "stderr",
     "output_type": "stream",
     "text": [
      "Epoch 14/15: 100%|██████████| 14/14 [00:26<00:00,  1.88s/batch, Loss=0.292]\n"
     ]
    },
    {
     "name": "stdout",
     "output_type": "stream",
     "text": [
      "Epoch 14/15 | Loss: 0.229229\n"
     ]
    },
    {
     "name": "stderr",
     "output_type": "stream",
     "text": [
      "Epoch 15/15: 100%|██████████| 14/14 [00:26<00:00,  1.91s/batch, Loss=0.291]"
     ]
    },
    {
     "name": "stdout",
     "output_type": "stream",
     "text": [
      "Epoch 15/15 | Loss: 0.224310\n"
     ]
    },
    {
     "name": "stderr",
     "output_type": "stream",
     "text": [
      "\n"
     ]
    }
   ],
   "source": [
    "from src.layers.dense import Dense\n",
    "from src.layers.transformer import Transformer\n",
    "from src.activations import Sigmoid\n",
    "from src.models import Sequential\n",
    "from src.losses import BinaryCrossEntropy\n",
    "\n",
    "model = Sequential(\n",
    "    Transformer(heads=2, emb_size=emb_size),\n",
    "    Dense(units=1, activation=Sigmoid())\n",
    ")\n",
    "\n",
    "model.fit(X_train, y_train, batches=batches, loss_function=BinaryCrossEntropy(), epochs=15, learning_rate=2e-4)"
   ]
  },
  {
   "cell_type": "code",
   "execution_count": 14,
   "metadata": {},
   "outputs": [
    {
     "data": {
      "image/png": "[encoded data removed]",
      "text/plain": [
       "<Figure size 1200x600 with 1 Axes>"
      ]
     },
     "metadata": {},
     "output_type": "display_data"
    }
   ],
   "source": [
    "plt.figure(figsize=(12, 6))\n",
    "plt.plot(model.history['loss'], label=\"График потерь\", alpha=0.75)\n",
    "plt.title(\"Трансформер\")\n",
    "plt.xlabel(\"Временные шаги\")\n",
    "plt.ylabel(\"Значение\")\n",
    "plt.legend()\n",
    "plt.show()"
   ]
  },
  {
   "cell_type": "code",
   "execution_count": 15,
   "metadata": {},
   "outputs": [],
   "source": [
    "y_pred = model.predict(X_test)"
   ]
  },
  {
   "cell_type": "code",
   "execution_count": 16,
   "metadata": {},
   "outputs": [],
   "source": [
    "y_pred = (y_pred > 0.5).astype(int)"
   ]
  },
  {
   "cell_type": "code",
   "execution_count": 17,
   "metadata": {},
   "outputs": [
    {
     "name": "stdout",
     "output_type": "stream",
     "text": [
      "\n",
      "Metrics for model: Transformer metrics\n",
      "----------------------------------------\n",
      "Accuracy: 0.8608\n",
      "Classification Report:\n",
      "              precision    recall  f1-score   support\n",
      "\n",
      "           1       0.75      0.89      0.81       289\n",
      "           0       0.94      0.85      0.89       566\n",
      "\n",
      "    accuracy                           0.86       855\n",
      "   macro avg       0.84      0.87      0.85       855\n",
      "weighted avg       0.87      0.86      0.86       855\n",
      "\n"
     ]
    }
   ],
   "source": [
    "from sklearn.metrics import classification_report, accuracy_score\n",
    "# 3. Вычисление и вывод метрик\n",
    "def print_metrics(y_true, y_pred, model_name):\n",
    "    print(f\"\\nMetrics for model: {model_name}\")\n",
    "    print(\"-\" * 40)\n",
    "    print(f\"Accuracy: {accuracy_score(y_true, y_pred):.4f}\")\n",
    "    print(\"Classification Report:\")\n",
    "    print(classification_report(y_true, y_pred, labels=(1, 0)))\n",
    "\n",
    "# Вывод метрик\n",
    "print_metrics(y_test, y_pred, \"Transformer metrics\")"
   ]
  }
 ],
 "metadata": {
  "kernelspec": {
   "display_name": "Python 3",
   "language": "python",
   "name": "python3"
  },
  "language_info": {
   "codemirror_mode": {
    "name": "ipython",
    "version": 3
   },
   "file_extension": ".py",
   "mimetype": "text/x-python",
   "name": "python",
   "nbconvert_exporter": "python",
   "pygments_lexer": "ipython3",
   "version": "3.11.9"
  }
 },
 "nbformat": 4,
 "nbformat_minor": 2
}
